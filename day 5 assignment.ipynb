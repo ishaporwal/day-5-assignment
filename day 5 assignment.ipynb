{
 "cells": [
  {
   "cell_type": "code",
   "execution_count": 1,
   "metadata": {},
   "outputs": [
    {
     "name": "stdout",
     "output_type": "stream",
     "text": [
      "[1, 1, 1, 2, 2, 3, 4, 4, 10, 56, 56, 0, 0, 0, 0, 0]\n"
     ]
    }
   ],
   "source": [
    "list1 = [0,1,2,10,4,1,0,56,2,0,1,3,0,56,0,4]\n",
    "list2 = []\n",
    "list3 = []\n",
    "for i in range(len(list1)):\n",
    "    if list1[i] == 0:\n",
    "        list3.append(list1[i])\n",
    "    else:\n",
    "        list2.append(list1[i])\n",
    "print(sorted(list2)+list3)"
   ]
  },
  {
   "cell_type": "code",
   "execution_count": 2,
   "metadata": {},
   "outputs": [
    {
     "name": "stdout",
     "output_type": "stream",
     "text": [
      "[5, 10, 15, 20, 25, 35, 40, 45, 60, 60, 70, 80]\n"
     ]
    }
   ],
   "source": [
    "list1 = [10,20,40,60,70,80]\n",
    "list2 = [5,15,25,35,45,60]\n",
    "size1 = len(list1)\n",
    "size2 = len(list2)\n",
    "result = []\n",
    "i, j = 0, 0\n",
    "while i < size1 and j < size2:\n",
    "    if list1[i] < list2[j]:\n",
    "        result.append(list1[i])\n",
    "        i += 1\n",
    "    else:\n",
    "        result.append(list2[j])\n",
    "        j += 1\n",
    "result = result + list1[i:] + list2[j:]\n",
    "print(result)"
   ]
  },
  {
   "cell_type": "code",
   "execution_count": null,
   "metadata": {},
   "outputs": [],
   "source": []
  }
 ],
 "metadata": {
  "kernelspec": {
   "display_name": "Python 3",
   "language": "python",
   "name": "python3"
  },
  "language_info": {
   "codemirror_mode": {
    "name": "ipython",
    "version": 3
   },
   "file_extension": ".py",
   "mimetype": "text/x-python",
   "name": "python",
   "nbconvert_exporter": "python",
   "pygments_lexer": "ipython3",
   "version": "3.7.6"
  }
 },
 "nbformat": 4,
 "nbformat_minor": 4
}
